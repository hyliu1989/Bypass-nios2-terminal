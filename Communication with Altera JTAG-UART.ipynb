{
 "cells": [
  {
   "cell_type": "markdown",
   "metadata": {},
   "source": [
    "Python wrapper for the JTAG Atlantic communiation library\n",
    "\n",
    "Adapted from http://alterawiki.com/wiki/High_Speed_Image_Download_Demo"
   ]
  },
  {
   "cell_type": "code",
   "execution_count": null,
   "metadata": {
    "collapsed": true
   },
   "outputs": [],
   "source": [
    "import ctypes"
   ]
  },
  {
   "cell_type": "code",
   "execution_count": null,
   "metadata": {
    "collapsed": true
   },
   "outputs": [],
   "source": [
    "# requiring jtag_atlantic.dll and jtag_client.dll put in the same folder as this notebook\n",
    "dll_path = 'jtag_atlantic.dll'"
   ]
  },
  {
   "cell_type": "code",
   "execution_count": null,
   "metadata": {},
   "outputs": [],
   "source": [
    "atlantic_dll = ctypes.cdll.LoadLibrary(dll_path)"
   ]
  },
  {
   "cell_type": "markdown",
   "metadata": {},
   "source": [
    "# Function definitions"
   ]
  },
  {
   "cell_type": "code",
   "execution_count": null,
   "metadata": {},
   "outputs": [],
   "source": [
    "\"\"\"\n",
    "JTAGATLANTIC * jtagatlantic_open (\n",
    "    const char * chain,\n",
    "    int device_index,\n",
    "    int link_instance,\n",
    "    const char * app_name);\n",
    "\"\"\"\n",
    "JAOpen = getattr(atlantic_dll,'?jtagatlantic_open@@YAPEAUJTAGATLANTIC@@PEBDHH0@Z')  # mangled name obtained from dllwalker\n",
    "JAOpen.argtypes = [ctypes.c_char_p, ctypes.c_int64, ctypes.c_int64, ctypes.c_char_p]\n",
    "JAOpen.restype = ctypes.c_void_p\n",
    "\n",
    "\"\"\"\n",
    "int  jtagatlantic_get_error (const char * * other_info);\n",
    "\"\"\"\n",
    "JAGetError = getattr(atlantic_dll,'?jtagatlantic_get_error@@YA?AW4JATL_ERROR@@PEAPEBD@Z')\n",
    "JAGetError.argtypes = [ctypes.c_void_p]\n",
    "JAGetError.restype = ctypes.c_int64\n",
    "\n",
    "\"\"\"\n",
    "void jtagatlantic_close (JTAGATLANTIC * link);\n",
    "\"\"\"\n",
    "JAClose = getattr(atlantic_dll,'?jtagatlantic_close@@YAXPEAUJTAGATLANTIC@@@Z')\n",
    "JAClose.argtypes = [ctypes.c_void_p]\n",
    "JAClose.restype = None\n",
    "\n",
    "\"\"\"\n",
    "int  jtagatlantic_write (JTAGATLANTIC * link, const char * data, unsigned int count);\n",
    "\"\"\"\n",
    "JAWrite = getattr(atlantic_dll,'?jtagatlantic_write@@YAHPEAUJTAGATLANTIC@@PEBDI@Z')\n",
    "JAWrite.argtypes = [ctypes.c_void_p, ctypes.c_char_p, ctypes.c_uint64]\n",
    "JAWrite.restype = ctypes.c_int64\n",
    "\n",
    "\"\"\"\n",
    "int  jtagatlantic_flush (JTAGATLANTIC * link);\n",
    "\"\"\"\n",
    "JAFlush = getattr(atlantic_dll,'?jtagatlantic_flush@@YAHPEAUJTAGATLANTIC@@@Z')\n",
    "JAFlush.argtypes = [ctypes.c_void_p]\n",
    "JAFlush.restype = ctypes.c_int64\n",
    "\n",
    "\"\"\"\n",
    "int  jtagatlantic_read (JTAGATLANTIC * link, char * buffer, unsigned int buffsize);\n",
    "\"\"\"\n",
    "JARead = getattr(atlantic_dll,'?jtagatlantic_read@@YAHPEAUJTAGATLANTIC@@PEADI@Z')\n",
    "JARead.argtypes = [ctypes.c_void_p, ctypes.c_char_p, ctypes.c_uint64]\n",
    "JARead.restype = ctypes.c_int64"
   ]
  },
  {
   "cell_type": "code",
   "execution_count": null,
   "metadata": {},
   "outputs": [],
   "source": [
    "# information obtained from running nios2-terminal.exe\n",
    "cable_name = b\"DE-SoC [USB-1]\"  # related to the board you are using\n",
    "device_index = 2  # related to the JTAG device on the board. 0: to let the DLL determine itself. \n",
    "                  #      1: usually the on-board FPGA \"burner\" chip, 2: the FPGA chip\n",
    "link_instance = 0 # -1: to let the DLL determine the JTAG instance in the chip. 0: in my case I have only 1 instance\n",
    "                  #      of JTAG-UART so it is indexed by 0.\n",
    "\n",
    "# establish the link\n",
    "link = JAOpen(\n",
    "    ctypes.c_char_p(cable_name),\n",
    "    ctypes.c_int64(device_index),\n",
    "    ctypes.c_int64(link_instance),\n",
    "    ctypes.c_char_p(b'')\n",
    ")"
   ]
  },
  {
   "cell_type": "code",
   "execution_count": null,
   "metadata": {},
   "outputs": [],
   "source": [
    "to_send = b'\\003a'\n",
    "print('to send',len(to_send),'bytes')\n",
    "JAWrite(link, ctypes.c_char_p(to_send), len(to_send))"
   ]
  },
  {
   "cell_type": "code",
   "execution_count": null,
   "metadata": {},
   "outputs": [],
   "source": [
    "JAFlush(link)"
   ]
  },
  {
   "cell_type": "code",
   "execution_count": null,
   "metadata": {
    "collapsed": true
   },
   "outputs": [],
   "source": [
    "JAClose(link)"
   ]
  },
  {
   "cell_type": "code",
   "execution_count": null,
   "metadata": {
    "collapsed": true
   },
   "outputs": [],
   "source": []
  }
 ],
 "metadata": {
  "kernelspec": {
   "display_name": "Python 3",
   "language": "python",
   "name": "python3"
  },
  "language_info": {
   "codemirror_mode": {
    "name": "ipython",
    "version": 3
   },
   "file_extension": ".py",
   "mimetype": "text/x-python",
   "name": "python",
   "nbconvert_exporter": "python",
   "pygments_lexer": "ipython3",
   "version": "3.6.3"
  }
 },
 "nbformat": 4,
 "nbformat_minor": 2
}
